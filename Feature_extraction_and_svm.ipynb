{
  "nbformat": 4,
  "nbformat_minor": 0,
  "metadata": {
    "colab": {
      "provenance": [],
      "gpuType": "T4"
    },
    "kernelspec": {
      "name": "python3",
      "display_name": "Python 3"
    },
    "language_info": {
      "name": "python"
    },
    "accelerator": "GPU"
  },
  "cells": [
    {
      "cell_type": "code",
      "execution_count": null,
      "metadata": {
        "id": "Yf1rP55mNhnk"
      },
      "outputs": [],
      "source": [
        "!mkdir -p ~/.kaggle\n",
        "!cp kaggle.json ~/.kaggle/"
      ]
    },
    {
      "cell_type": "code",
      "source": [
        "!kaggle datasets download -d pranavraikokte/covid19-image-dataset"
      ],
      "metadata": {
        "colab": {
          "base_uri": "https://localhost:8080/"
        },
        "id": "91aUaq6WPES8",
        "outputId": "660d7681-2313-478d-deba-5e362f180305"
      },
      "execution_count": null,
      "outputs": [
        {
          "output_type": "stream",
          "name": "stdout",
          "text": [
            "Warning: Your Kaggle API key is readable by other users on this system! To fix this, you can run 'chmod 600 /root/.kaggle/kaggle.json'\n",
            "Downloading covid19-image-dataset.zip to /content\n",
            " 99% 156M/158M [00:01<00:00, 106MB/s]\n",
            "100% 158M/158M [00:01<00:00, 83.2MB/s]\n"
          ]
        }
      ]
    },
    {
      "cell_type": "code",
      "source": [
        "from tensorflow import keras"
      ],
      "metadata": {
        "id": "1NMyChdqQE9G"
      },
      "execution_count": null,
      "outputs": []
    },
    {
      "cell_type": "code",
      "source": [
        "import zipfile\n",
        "zip_ref = zipfile.ZipFile('/content/covid19-image-dataset.zip', 'r')\n",
        "zip_ref.extractall('/content')\n",
        "zip_ref.close()"
      ],
      "metadata": {
        "id": "jcsXbkm-PEWA"
      },
      "execution_count": null,
      "outputs": []
    },
    {
      "cell_type": "code",
      "source": [
        "import os\n",
        "import numpy as np\n",
        "import tensorflow as tf\n",
        "from tensorflow.keras.applications import VGG16\n",
        "from tensorflow.keras.preprocessing.image import ImageDataGenerator\n",
        "from tensorflow.keras.layers import Dense, GlobalAveragePooling2D\n",
        "from tensorflow.keras.models import Model\n",
        "from tensorflow.keras.optimizers import Adam"
      ],
      "metadata": {
        "id": "RfOnyII0PEYx"
      },
      "execution_count": null,
      "outputs": []
    },
    {
      "cell_type": "code",
      "source": [
        "train_data_dir = \"/content/Covid19-dataset/train\"\n",
        "test_data_dir = \"/content/Covid19-dataset/test\"\n",
        "img_width, img_height = 224, 224\n",
        "batch_size = 32"
      ],
      "metadata": {
        "id": "FPBnpuFpPEb5"
      },
      "execution_count": null,
      "outputs": []
    },
    {
      "cell_type": "code",
      "source": [
        "train_datagen = ImageDataGenerator(rescale=1.0/255.0)\n",
        "test_datagen = ImageDataGenerator(rescale=1.0/255.0)"
      ],
      "metadata": {
        "id": "VD241_Gyaszu"
      },
      "execution_count": null,
      "outputs": []
    },
    {
      "cell_type": "code",
      "source": [
        "train_generator = train_datagen.flow_from_directory(\n",
        "    train_data_dir,\n",
        "    target_size=(img_width, img_height),\n",
        "    batch_size=batch_size,\n",
        "    class_mode='categorical',\n",
        "    shuffle=False\n",
        ")\n"
      ],
      "metadata": {
        "colab": {
          "base_uri": "https://localhost:8080/"
        },
        "id": "ISbLp6anPEe5",
        "outputId": "0da037c2-1e00-436b-8ba7-cdbee953b324"
      },
      "execution_count": null,
      "outputs": [
        {
          "output_type": "stream",
          "name": "stdout",
          "text": [
            "Found 251 images belonging to 3 classes.\n"
          ]
        }
      ]
    },
    {
      "cell_type": "code",
      "source": [
        "test_generator = test_datagen.flow_from_directory(\n",
        "    test_data_dir,\n",
        "    target_size=(img_width, img_height),\n",
        "    batch_size=batch_size,\n",
        "    class_mode='categorical',\n",
        "    shuffle=False\n",
        ")\n"
      ],
      "metadata": {
        "colab": {
          "base_uri": "https://localhost:8080/"
        },
        "id": "9cscdd2MPEkt",
        "outputId": "5340b80f-ed84-4fd2-eed4-6daca44b0c65"
      },
      "execution_count": null,
      "outputs": [
        {
          "output_type": "stream",
          "name": "stdout",
          "text": [
            "Found 66 images belonging to 3 classes.\n"
          ]
        }
      ]
    },
    {
      "cell_type": "code",
      "source": [
        "base_model = VGG16(weights='imagenet', include_top=False,input_shape=(img_width, img_height,3))"
      ],
      "metadata": {
        "id": "hedkzGAta1kF"
      },
      "execution_count": null,
      "outputs": []
    },
    {
      "cell_type": "code",
      "source": [
        "x = base_model.output\n",
        "x = GlobalAveragePooling2D()(x)\n",
        "x = Dense(1024, activation='relu')(x)\n",
        "predictions = Dense(3, activation='softmax')(x)"
      ],
      "metadata": {
        "id": "kMHcOCnKcfIL"
      },
      "execution_count": null,
      "outputs": []
    },
    {
      "cell_type": "code",
      "source": [
        "model = Model(inputs=base_model.input, outputs=predictions)\n",
        "model.compile(optimizer='Adam', loss='categorical_crossentropy', metrics=['accuracy'])\n",
        "model.fit(\n",
        "    train_generator,\n",
        "    steps_per_epoch=len(train_generator),\n",
        "    validation_data=test_generator,\n",
        "    validation_steps=len(test_generator),\n",
        "    epochs=50\n",
        ")"
      ],
      "metadata": {
        "colab": {
          "base_uri": "https://localhost:8080/"
        },
        "id": "Susv-NLNc7Ee",
        "outputId": "24a1bac5-e81e-4dc8-8027-99447e5d28ff"
      },
      "execution_count": null,
      "outputs": [
        {
          "output_type": "stream",
          "name": "stdout",
          "text": [
            "Epoch 1/50\n",
            "8/8 [==============================] - 12s 718ms/step - loss: 18.5895 - accuracy: 0.1474 - val_loss: 1.0772 - val_accuracy: 0.3939\n",
            "Epoch 2/50\n",
            "8/8 [==============================] - 7s 908ms/step - loss: 2.0714 - accuracy: 0.3825 - val_loss: 1.4207 - val_accuracy: 0.3030\n",
            "Epoch 3/50\n",
            "8/8 [==============================] - 7s 807ms/step - loss: 1.7257 - accuracy: 0.2789 - val_loss: 1.2424 - val_accuracy: 0.3939\n",
            "Epoch 4/50\n",
            "8/8 [==============================] - 7s 838ms/step - loss: 1.2139 - accuracy: 0.1434 - val_loss: 1.1079 - val_accuracy: 0.3939\n",
            "Epoch 5/50\n",
            "8/8 [==============================] - 7s 829ms/step - loss: 1.2422 - accuracy: 0.3147 - val_loss: 1.0845 - val_accuracy: 0.3939\n",
            "Epoch 6/50\n",
            "8/8 [==============================] - 6s 793ms/step - loss: 1.1724 - accuracy: 0.4422 - val_loss: 1.0968 - val_accuracy: 0.3939\n",
            "Epoch 7/50\n",
            "8/8 [==============================] - 7s 866ms/step - loss: 1.1242 - accuracy: 0.4422 - val_loss: 1.0967 - val_accuracy: 0.3939\n",
            "Epoch 8/50\n",
            "8/8 [==============================] - 6s 801ms/step - loss: 1.1078 - accuracy: 0.4422 - val_loss: 1.0893 - val_accuracy: 0.3939\n",
            "Epoch 9/50\n",
            "8/8 [==============================] - 7s 775ms/step - loss: 1.1007 - accuracy: 0.4422 - val_loss: 1.0849 - val_accuracy: 0.3939\n",
            "Epoch 10/50\n",
            "8/8 [==============================] - 7s 880ms/step - loss: 1.1539 - accuracy: 0.4422 - val_loss: 1.1176 - val_accuracy: 0.3939\n",
            "Epoch 11/50\n",
            "8/8 [==============================] - 6s 688ms/step - loss: 1.0754 - accuracy: 0.4422 - val_loss: 1.0961 - val_accuracy: 0.3939\n",
            "Epoch 12/50\n",
            "8/8 [==============================] - 6s 737ms/step - loss: 1.1430 - accuracy: 0.2151 - val_loss: 1.0897 - val_accuracy: 0.3939\n",
            "Epoch 13/50\n",
            "8/8 [==============================] - 7s 918ms/step - loss: 1.0985 - accuracy: 0.4462 - val_loss: 1.0780 - val_accuracy: 0.4545\n",
            "Epoch 14/50\n",
            "8/8 [==============================] - 6s 748ms/step - loss: 1.1012 - accuracy: 0.4104 - val_loss: 1.0826 - val_accuracy: 0.3939\n",
            "Epoch 15/50\n",
            "8/8 [==============================] - 7s 769ms/step - loss: 1.0836 - accuracy: 0.4422 - val_loss: 1.0771 - val_accuracy: 0.3939\n",
            "Epoch 16/50\n",
            "8/8 [==============================] - 8s 1s/step - loss: 1.0834 - accuracy: 0.4422 - val_loss: 1.0732 - val_accuracy: 0.3939\n",
            "Epoch 17/50\n",
            "8/8 [==============================] - 7s 858ms/step - loss: 1.0727 - accuracy: 0.4422 - val_loss: 1.0796 - val_accuracy: 0.3939\n",
            "Epoch 18/50\n",
            "8/8 [==============================] - 7s 835ms/step - loss: 1.0780 - accuracy: 0.4422 - val_loss: 1.0693 - val_accuracy: 0.3939\n",
            "Epoch 19/50\n",
            "8/8 [==============================] - 7s 898ms/step - loss: 1.0559 - accuracy: 0.4422 - val_loss: 1.0479 - val_accuracy: 0.3939\n",
            "Epoch 20/50\n",
            "8/8 [==============================] - 7s 839ms/step - loss: 1.0455 - accuracy: 0.4422 - val_loss: 1.0264 - val_accuracy: 0.3939\n",
            "Epoch 21/50\n",
            "8/8 [==============================] - 7s 817ms/step - loss: 1.1571 - accuracy: 0.1952 - val_loss: 1.0679 - val_accuracy: 0.5455\n",
            "Epoch 22/50\n",
            "8/8 [==============================] - 7s 855ms/step - loss: 1.0129 - accuracy: 0.4622 - val_loss: 1.0538 - val_accuracy: 0.3939\n",
            "Epoch 23/50\n",
            "8/8 [==============================] - 6s 821ms/step - loss: 1.1615 - accuracy: 0.4104 - val_loss: 1.0333 - val_accuracy: 0.3939\n",
            "Epoch 24/50\n",
            "8/8 [==============================] - 6s 806ms/step - loss: 0.9903 - accuracy: 0.4422 - val_loss: 1.0090 - val_accuracy: 0.3939\n",
            "Epoch 25/50\n",
            "8/8 [==============================] - 6s 760ms/step - loss: 1.0414 - accuracy: 0.4422 - val_loss: 0.9841 - val_accuracy: 0.3939\n",
            "Epoch 26/50\n",
            "8/8 [==============================] - 6s 807ms/step - loss: 0.9965 - accuracy: 0.4422 - val_loss: 0.9655 - val_accuracy: 0.3939\n",
            "Epoch 27/50\n",
            "8/8 [==============================] - 7s 866ms/step - loss: 1.0221 - accuracy: 0.4422 - val_loss: 1.0255 - val_accuracy: 0.3939\n",
            "Epoch 28/50\n",
            "8/8 [==============================] - 6s 789ms/step - loss: 0.9190 - accuracy: 0.4422 - val_loss: 0.9086 - val_accuracy: 0.3939\n",
            "Epoch 29/50\n",
            "8/8 [==============================] - 6s 801ms/step - loss: 0.9268 - accuracy: 0.4422 - val_loss: 0.8687 - val_accuracy: 0.3939\n",
            "Epoch 30/50\n",
            "8/8 [==============================] - 7s 901ms/step - loss: 1.0842 - accuracy: 0.3347 - val_loss: 1.0543 - val_accuracy: 0.3939\n",
            "Epoch 31/50\n",
            "8/8 [==============================] - 6s 839ms/step - loss: 1.2979 - accuracy: 0.4104 - val_loss: 1.0311 - val_accuracy: 0.3939\n",
            "Epoch 32/50\n",
            "8/8 [==============================] - 7s 877ms/step - loss: 1.1190 - accuracy: 0.4980 - val_loss: 1.0391 - val_accuracy: 0.6364\n",
            "Epoch 33/50\n",
            "8/8 [==============================] - 7s 788ms/step - loss: 0.9897 - accuracy: 0.5857 - val_loss: 0.9364 - val_accuracy: 0.3939\n",
            "Epoch 34/50\n",
            "8/8 [==============================] - 7s 781ms/step - loss: 0.9590 - accuracy: 0.4422 - val_loss: 0.8759 - val_accuracy: 0.3939\n",
            "Epoch 35/50\n",
            "8/8 [==============================] - 7s 845ms/step - loss: 0.9411 - accuracy: 0.4343 - val_loss: 0.9056 - val_accuracy: 0.5303\n",
            "Epoch 36/50\n",
            "8/8 [==============================] - 7s 805ms/step - loss: 0.8506 - accuracy: 0.4582 - val_loss: 0.8296 - val_accuracy: 0.3939\n",
            "Epoch 37/50\n",
            "8/8 [==============================] - 6s 761ms/step - loss: 0.8629 - accuracy: 0.4661 - val_loss: 0.7288 - val_accuracy: 0.6818\n",
            "Epoch 38/50\n",
            "8/8 [==============================] - 7s 848ms/step - loss: 0.8477 - accuracy: 0.5777 - val_loss: 0.8611 - val_accuracy: 0.5758\n",
            "Epoch 39/50\n",
            "8/8 [==============================] - 7s 913ms/step - loss: 0.9373 - accuracy: 0.4064 - val_loss: 0.6706 - val_accuracy: 0.6667\n",
            "Epoch 40/50\n",
            "8/8 [==============================] - 7s 867ms/step - loss: 0.7598 - accuracy: 0.5259 - val_loss: 0.6863 - val_accuracy: 0.6970\n",
            "Epoch 41/50\n",
            "8/8 [==============================] - 6s 836ms/step - loss: 0.8267 - accuracy: 0.6295 - val_loss: 0.8289 - val_accuracy: 0.6818\n",
            "Epoch 42/50\n",
            "8/8 [==============================] - 7s 892ms/step - loss: 0.9039 - accuracy: 0.4701 - val_loss: 1.3824 - val_accuracy: 0.3030\n",
            "Epoch 43/50\n",
            "8/8 [==============================] - 7s 872ms/step - loss: 1.1825 - accuracy: 0.3546 - val_loss: 1.0563 - val_accuracy: 0.4545\n",
            "Epoch 44/50\n",
            "8/8 [==============================] - 6s 831ms/step - loss: 0.9345 - accuracy: 0.5219 - val_loss: 0.7496 - val_accuracy: 0.4697\n",
            "Epoch 45/50\n",
            "8/8 [==============================] - 6s 787ms/step - loss: 0.9167 - accuracy: 0.7171 - val_loss: 0.9875 - val_accuracy: 0.6061\n",
            "Epoch 46/50\n",
            "8/8 [==============================] - 7s 896ms/step - loss: 0.9223 - accuracy: 0.6335 - val_loss: 0.8455 - val_accuracy: 0.6818\n",
            "Epoch 47/50\n",
            "8/8 [==============================] - 7s 788ms/step - loss: 1.4987 - accuracy: 0.4980 - val_loss: 0.8582 - val_accuracy: 0.4394\n",
            "Epoch 48/50\n",
            "8/8 [==============================] - 7s 841ms/step - loss: 0.8810 - accuracy: 0.4582 - val_loss: 0.8504 - val_accuracy: 0.3939\n",
            "Epoch 49/50\n",
            "8/8 [==============================] - 7s 857ms/step - loss: 0.8169 - accuracy: 0.4940 - val_loss: 0.7404 - val_accuracy: 0.7424\n",
            "Epoch 50/50\n",
            "8/8 [==============================] - 7s 887ms/step - loss: 0.7333 - accuracy: 0.6932 - val_loss: 0.6597 - val_accuracy: 0.7879\n"
          ]
        },
        {
          "output_type": "execute_result",
          "data": {
            "text/plain": [
              "<keras.src.callbacks.History at 0x792b3cf48d90>"
            ]
          },
          "metadata": {},
          "execution_count": 65
        }
      ]
    },
    {
      "cell_type": "code",
      "source": [
        "model.evaluate(test_generator)"
      ],
      "metadata": {
        "colab": {
          "base_uri": "https://localhost:8080/"
        },
        "id": "xYL8LrIJjMb6",
        "outputId": "ed56bed1-03dd-4e79-f269-657ea47f0cd0"
      },
      "execution_count": null,
      "outputs": [
        {
          "output_type": "stream",
          "name": "stdout",
          "text": [
            "3/3 [==============================] - 1s 167ms/step - loss: 0.6597 - accuracy: 0.7879\n"
          ]
        },
        {
          "output_type": "execute_result",
          "data": {
            "text/plain": [
              "[0.6596887707710266, 0.7878788113594055]"
            ]
          },
          "metadata": {},
          "execution_count": 83
        }
      ]
    },
    {
      "cell_type": "code",
      "source": [
        "base_model2 = VGG16(weights='imagenet', include_top=True, input_shape=(224, 224, 3))"
      ],
      "metadata": {
        "id": "tTmr9fW-PEq1"
      },
      "execution_count": null,
      "outputs": []
    },
    {
      "cell_type": "code",
      "source": [
        "base_model2.summary()"
      ],
      "metadata": {
        "colab": {
          "base_uri": "https://localhost:8080/"
        },
        "id": "MTzsbf6CPEt9",
        "outputId": "84690847-bc96-4955-b245-0809d21356d5"
      },
      "execution_count": null,
      "outputs": [
        {
          "output_type": "stream",
          "name": "stdout",
          "text": [
            "Model: \"vgg16\"\n",
            "_________________________________________________________________\n",
            " Layer (type)                Output Shape              Param #   \n",
            "=================================================================\n",
            " input_12 (InputLayer)       [(None, 224, 224, 3)]     0         \n",
            "                                                                 \n",
            " block1_conv1 (Conv2D)       (None, 224, 224, 64)      1792      \n",
            "                                                                 \n",
            " block1_conv2 (Conv2D)       (None, 224, 224, 64)      36928     \n",
            "                                                                 \n",
            " block1_pool (MaxPooling2D)  (None, 112, 112, 64)      0         \n",
            "                                                                 \n",
            " block2_conv1 (Conv2D)       (None, 112, 112, 128)     73856     \n",
            "                                                                 \n",
            " block2_conv2 (Conv2D)       (None, 112, 112, 128)     147584    \n",
            "                                                                 \n",
            " block2_pool (MaxPooling2D)  (None, 56, 56, 128)       0         \n",
            "                                                                 \n",
            " block3_conv1 (Conv2D)       (None, 56, 56, 256)       295168    \n",
            "                                                                 \n",
            " block3_conv2 (Conv2D)       (None, 56, 56, 256)       590080    \n",
            "                                                                 \n",
            " block3_conv3 (Conv2D)       (None, 56, 56, 256)       590080    \n",
            "                                                                 \n",
            " block3_pool (MaxPooling2D)  (None, 28, 28, 256)       0         \n",
            "                                                                 \n",
            " block4_conv1 (Conv2D)       (None, 28, 28, 512)       1180160   \n",
            "                                                                 \n",
            " block4_conv2 (Conv2D)       (None, 28, 28, 512)       2359808   \n",
            "                                                                 \n",
            " block4_conv3 (Conv2D)       (None, 28, 28, 512)       2359808   \n",
            "                                                                 \n",
            " block4_pool (MaxPooling2D)  (None, 14, 14, 512)       0         \n",
            "                                                                 \n",
            " block5_conv1 (Conv2D)       (None, 14, 14, 512)       2359808   \n",
            "                                                                 \n",
            " block5_conv2 (Conv2D)       (None, 14, 14, 512)       2359808   \n",
            "                                                                 \n",
            " block5_conv3 (Conv2D)       (None, 14, 14, 512)       2359808   \n",
            "                                                                 \n",
            " block5_pool (MaxPooling2D)  (None, 7, 7, 512)         0         \n",
            "                                                                 \n",
            " flatten (Flatten)           (None, 25088)             0         \n",
            "                                                                 \n",
            " fc1 (Dense)                 (None, 4096)              102764544 \n",
            "                                                                 \n",
            " fc2 (Dense)                 (None, 4096)              16781312  \n",
            "                                                                 \n",
            " predictions (Dense)         (None, 1000)              4097000   \n",
            "                                                                 \n",
            "=================================================================\n",
            "Total params: 138357544 (527.79 MB)\n",
            "Trainable params: 138357544 (527.79 MB)\n",
            "Non-trainable params: 0 (0.00 Byte)\n",
            "_________________________________________________________________\n"
          ]
        }
      ]
    },
    {
      "cell_type": "code",
      "source": [
        "from keras.models import Model\n",
        "extraction_model=Model(inputs=base_model2.input,outputs= base_model2.get_layer('fc1').output)"
      ],
      "metadata": {
        "id": "ZwKXFthdPE23"
      },
      "execution_count": null,
      "outputs": []
    },
    {
      "cell_type": "code",
      "source": [
        "extraction_model.summary()"
      ],
      "metadata": {
        "colab": {
          "base_uri": "https://localhost:8080/"
        },
        "id": "a7qM-VKYPE50",
        "outputId": "4f1181de-8484-4799-882b-f56a5566a7b9"
      },
      "execution_count": null,
      "outputs": [
        {
          "output_type": "stream",
          "name": "stdout",
          "text": [
            "Model: \"model_5\"\n",
            "_________________________________________________________________\n",
            " Layer (type)                Output Shape              Param #   \n",
            "=================================================================\n",
            " input_12 (InputLayer)       [(None, 224, 224, 3)]     0         \n",
            "                                                                 \n",
            " block1_conv1 (Conv2D)       (None, 224, 224, 64)      1792      \n",
            "                                                                 \n",
            " block1_conv2 (Conv2D)       (None, 224, 224, 64)      36928     \n",
            "                                                                 \n",
            " block1_pool (MaxPooling2D)  (None, 112, 112, 64)      0         \n",
            "                                                                 \n",
            " block2_conv1 (Conv2D)       (None, 112, 112, 128)     73856     \n",
            "                                                                 \n",
            " block2_conv2 (Conv2D)       (None, 112, 112, 128)     147584    \n",
            "                                                                 \n",
            " block2_pool (MaxPooling2D)  (None, 56, 56, 128)       0         \n",
            "                                                                 \n",
            " block3_conv1 (Conv2D)       (None, 56, 56, 256)       295168    \n",
            "                                                                 \n",
            " block3_conv2 (Conv2D)       (None, 56, 56, 256)       590080    \n",
            "                                                                 \n",
            " block3_conv3 (Conv2D)       (None, 56, 56, 256)       590080    \n",
            "                                                                 \n",
            " block3_pool (MaxPooling2D)  (None, 28, 28, 256)       0         \n",
            "                                                                 \n",
            " block4_conv1 (Conv2D)       (None, 28, 28, 512)       1180160   \n",
            "                                                                 \n",
            " block4_conv2 (Conv2D)       (None, 28, 28, 512)       2359808   \n",
            "                                                                 \n",
            " block4_conv3 (Conv2D)       (None, 28, 28, 512)       2359808   \n",
            "                                                                 \n",
            " block4_pool (MaxPooling2D)  (None, 14, 14, 512)       0         \n",
            "                                                                 \n",
            " block5_conv1 (Conv2D)       (None, 14, 14, 512)       2359808   \n",
            "                                                                 \n",
            " block5_conv2 (Conv2D)       (None, 14, 14, 512)       2359808   \n",
            "                                                                 \n",
            " block5_conv3 (Conv2D)       (None, 14, 14, 512)       2359808   \n",
            "                                                                 \n",
            " block5_pool (MaxPooling2D)  (None, 7, 7, 512)         0         \n",
            "                                                                 \n",
            " flatten (Flatten)           (None, 25088)             0         \n",
            "                                                                 \n",
            " fc1 (Dense)                 (None, 4096)              102764544 \n",
            "                                                                 \n",
            "=================================================================\n",
            "Total params: 117479232 (448.15 MB)\n",
            "Trainable params: 117479232 (448.15 MB)\n",
            "Non-trainable params: 0 (0.00 Byte)\n",
            "_________________________________________________________________\n"
          ]
        }
      ]
    },
    {
      "cell_type": "code",
      "source": [
        "train_features = extraction_model.predict(train_generator)"
      ],
      "metadata": {
        "colab": {
          "base_uri": "https://localhost:8080/"
        },
        "id": "60gWSr5Bg1Uc",
        "outputId": "f2b5cb85-5230-4a67-a7bd-acb98944b92a"
      },
      "execution_count": null,
      "outputs": [
        {
          "output_type": "stream",
          "name": "stdout",
          "text": [
            "8/8 [==============================] - 5s 491ms/step\n"
          ]
        }
      ]
    },
    {
      "cell_type": "code",
      "source": [
        "test_features = extraction_model.predict(test_generator)"
      ],
      "metadata": {
        "colab": {
          "base_uri": "https://localhost:8080/"
        },
        "id": "jl11TXMJirN4",
        "outputId": "44cac4d1-ced9-450d-c444-fbc8bcb25416"
      },
      "execution_count": null,
      "outputs": [
        {
          "output_type": "stream",
          "name": "stdout",
          "text": [
            "3/3 [==============================] - 1s 215ms/step\n"
          ]
        }
      ]
    },
    {
      "cell_type": "code",
      "source": [
        "from sklearn.svm import SVC\n",
        "from sklearn.metrics import accuracy_score"
      ],
      "metadata": {
        "id": "CKkequsWg1MP"
      },
      "execution_count": null,
      "outputs": []
    },
    {
      "cell_type": "code",
      "source": [
        "clf = SVC(C=1.0, kernel='rbf')\n",
        "clf.fit(train_features, train_generator.classes)"
      ],
      "metadata": {
        "colab": {
          "base_uri": "https://localhost:8080/",
          "height": 74
        },
        "id": "SXsVTai0hvzC",
        "outputId": "46cd41ff-7579-4ee8-ea9e-cb1ef19ab0e4"
      },
      "execution_count": null,
      "outputs": [
        {
          "output_type": "execute_result",
          "data": {
            "text/plain": [
              "SVC()"
            ],
            "text/html": [
              "<style>#sk-container-id-4 {color: black;background-color: white;}#sk-container-id-4 pre{padding: 0;}#sk-container-id-4 div.sk-toggleable {background-color: white;}#sk-container-id-4 label.sk-toggleable__label {cursor: pointer;display: block;width: 100%;margin-bottom: 0;padding: 0.3em;box-sizing: border-box;text-align: center;}#sk-container-id-4 label.sk-toggleable__label-arrow:before {content: \"▸\";float: left;margin-right: 0.25em;color: #696969;}#sk-container-id-4 label.sk-toggleable__label-arrow:hover:before {color: black;}#sk-container-id-4 div.sk-estimator:hover label.sk-toggleable__label-arrow:before {color: black;}#sk-container-id-4 div.sk-toggleable__content {max-height: 0;max-width: 0;overflow: hidden;text-align: left;background-color: #f0f8ff;}#sk-container-id-4 div.sk-toggleable__content pre {margin: 0.2em;color: black;border-radius: 0.25em;background-color: #f0f8ff;}#sk-container-id-4 input.sk-toggleable__control:checked~div.sk-toggleable__content {max-height: 200px;max-width: 100%;overflow: auto;}#sk-container-id-4 input.sk-toggleable__control:checked~label.sk-toggleable__label-arrow:before {content: \"▾\";}#sk-container-id-4 div.sk-estimator input.sk-toggleable__control:checked~label.sk-toggleable__label {background-color: #d4ebff;}#sk-container-id-4 div.sk-label input.sk-toggleable__control:checked~label.sk-toggleable__label {background-color: #d4ebff;}#sk-container-id-4 input.sk-hidden--visually {border: 0;clip: rect(1px 1px 1px 1px);clip: rect(1px, 1px, 1px, 1px);height: 1px;margin: -1px;overflow: hidden;padding: 0;position: absolute;width: 1px;}#sk-container-id-4 div.sk-estimator {font-family: monospace;background-color: #f0f8ff;border: 1px dotted black;border-radius: 0.25em;box-sizing: border-box;margin-bottom: 0.5em;}#sk-container-id-4 div.sk-estimator:hover {background-color: #d4ebff;}#sk-container-id-4 div.sk-parallel-item::after {content: \"\";width: 100%;border-bottom: 1px solid gray;flex-grow: 1;}#sk-container-id-4 div.sk-label:hover label.sk-toggleable__label {background-color: #d4ebff;}#sk-container-id-4 div.sk-serial::before {content: \"\";position: absolute;border-left: 1px solid gray;box-sizing: border-box;top: 0;bottom: 0;left: 50%;z-index: 0;}#sk-container-id-4 div.sk-serial {display: flex;flex-direction: column;align-items: center;background-color: white;padding-right: 0.2em;padding-left: 0.2em;position: relative;}#sk-container-id-4 div.sk-item {position: relative;z-index: 1;}#sk-container-id-4 div.sk-parallel {display: flex;align-items: stretch;justify-content: center;background-color: white;position: relative;}#sk-container-id-4 div.sk-item::before, #sk-container-id-4 div.sk-parallel-item::before {content: \"\";position: absolute;border-left: 1px solid gray;box-sizing: border-box;top: 0;bottom: 0;left: 50%;z-index: -1;}#sk-container-id-4 div.sk-parallel-item {display: flex;flex-direction: column;z-index: 1;position: relative;background-color: white;}#sk-container-id-4 div.sk-parallel-item:first-child::after {align-self: flex-end;width: 50%;}#sk-container-id-4 div.sk-parallel-item:last-child::after {align-self: flex-start;width: 50%;}#sk-container-id-4 div.sk-parallel-item:only-child::after {width: 0;}#sk-container-id-4 div.sk-dashed-wrapped {border: 1px dashed gray;margin: 0 0.4em 0.5em 0.4em;box-sizing: border-box;padding-bottom: 0.4em;background-color: white;}#sk-container-id-4 div.sk-label label {font-family: monospace;font-weight: bold;display: inline-block;line-height: 1.2em;}#sk-container-id-4 div.sk-label-container {text-align: center;}#sk-container-id-4 div.sk-container {/* jupyter's `normalize.less` sets `[hidden] { display: none; }` but bootstrap.min.css set `[hidden] { display: none !important; }` so we also need the `!important` here to be able to override the default hidden behavior on the sphinx rendered scikit-learn.org. See: https://github.com/scikit-learn/scikit-learn/issues/21755 */display: inline-block !important;position: relative;}#sk-container-id-4 div.sk-text-repr-fallback {display: none;}</style><div id=\"sk-container-id-4\" class=\"sk-top-container\"><div class=\"sk-text-repr-fallback\"><pre>SVC()</pre><b>In a Jupyter environment, please rerun this cell to show the HTML representation or trust the notebook. <br />On GitHub, the HTML representation is unable to render, please try loading this page with nbviewer.org.</b></div><div class=\"sk-container\" hidden><div class=\"sk-item\"><div class=\"sk-estimator sk-toggleable\"><input class=\"sk-toggleable__control sk-hidden--visually\" id=\"sk-estimator-id-4\" type=\"checkbox\" checked><label for=\"sk-estimator-id-4\" class=\"sk-toggleable__label sk-toggleable__label-arrow\">SVC</label><div class=\"sk-toggleable__content\"><pre>SVC()</pre></div></div></div></div></div>"
            ]
          },
          "metadata": {},
          "execution_count": 93
        }
      ]
    },
    {
      "cell_type": "code",
      "source": [
        "predicted_labels = clf.predict(test_features)\n",
        "accuracy = np.mean(predicted_labels == test_generator.classes)\n",
        "print(f\"Accuracy: {accuracy * 100:.2f}%\")"
      ],
      "metadata": {
        "colab": {
          "base_uri": "https://localhost:8080/"
        },
        "id": "VK9p-skIjARi",
        "outputId": "8d18d84f-be52-4073-e652-28bf132fd511"
      },
      "execution_count": null,
      "outputs": [
        {
          "output_type": "stream",
          "name": "stdout",
          "text": [
            "Accuracy: 84.85%\n"
          ]
        }
      ]
    }
  ]
}